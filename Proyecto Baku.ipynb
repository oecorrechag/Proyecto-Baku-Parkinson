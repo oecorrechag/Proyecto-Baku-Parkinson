{
 "cells": [
  {
   "cell_type": "markdown",
   "metadata": {},
   "source": [
    "# <center> Proyecto Baku - Parkinson"
   ]
  },
  {
   "cell_type": "code",
   "execution_count": 19,
   "metadata": {},
   "outputs": [],
   "source": [
    "# Librerias\n",
    "\n",
    "from sklearn.preprocessing import LabelEncoder\n",
    "from sklearn.metrics import confusion_matrix\n",
    "from skimage import feature\n",
    "from imutils import build_montages\n",
    "from imutils import paths\n",
    "import numpy as np\n",
    "import matplotlib.pyplot as plt\n",
    "import seaborn as sns\n",
    "import pandas as pd\n",
    "import argparse\n",
    "import cv2\n",
    "import os\n",
    "import re\n",
    "\n",
    "\n",
    "\n",
    "from sklearn.model_selection import train_test_split\n",
    "\n",
    "from sklearn.linear_model import LogisticRegression\n",
    "from sklearn.ensemble import RandomForestClassifier\n",
    "\n",
    "from sklearn.metrics import confusion_matrix, accuracy_score, f1_score, precision_score, recall_score\n",
    "\n",
    "from sklearn.preprocessing import StandardScaler\n",
    "scaler = StandardScaler()\n",
    "\n",
    "from sklearn.model_selection import cross_val_score"
   ]
  },
  {
   "cell_type": "code",
   "execution_count": 20,
   "metadata": {},
   "outputs": [],
   "source": [
    "# Funciones Auxiliares\n",
    "\n",
    "def rcb(photo):\n",
    "    '''\n",
    "    redimensionar imagen a 200x200\n",
    "    trasforma en RGB\n",
    "    Toma canal R\n",
    "    Se aplica transformacion binaria\n",
    "    Aplanar la imagen\n",
    "    '''\n",
    "    photo2 = cv2.resize(photo, (256, 256))\n",
    "    photor  = cv2.cvtColor(photo2, cv2.COLOR_BGR2RGB)\n",
    "    img_R = photor[:,:,0]\n",
    "    ret,transformacion = cv2.threshold(img_R, 180, 255, cv2.THRESH_BINARY)\n",
    "    imagef = transformacion.flatten()\n",
    "    \n",
    "    return imagef\n",
    "\n",
    "\n",
    "def etiquetado(directorios):\n",
    "    '''\n",
    "    Crea las etiquetas para las imagenes \n",
    "    retorna una array con las etiquetas\n",
    "    '''\n",
    "    labels = []\n",
    "    indice = 0\n",
    "    # itelador sobre la lista de cantidades de fotos \n",
    "    for cantidad in directorios:\n",
    "        for i in range(cantidad):                            # itera sore la cantidad de fotos por carpeta\n",
    "            labels.append(indice)                            # etiqueta con 0 la primera carpeta con 1 la siguiente .....hasta 8\n",
    "        indice = indice + 1                                  # incrementa el indice para cambiar de carpeta\n",
    "    print('Cantidad etiquetas creadas: ', len(labels))\n",
    "    \n",
    "    return(labels)"
   ]
  },
  {
   "cell_type": "code",
   "execution_count": 21,
   "metadata": {},
   "outputs": [],
   "source": [
    "def load_photos(direc):\n",
    "    '''\n",
    "    Ingresa la direccion de la carpeta y lee los archivos, retorna un array con las imagenes\n",
    "    '''\n",
    "    # se para en la carpeta datos\n",
    "    dirname = os.path.join(os.getcwd(), direc) \n",
    "    imgpath = dirname + os.sep\n",
    "    \n",
    "    images = []                  # lista para guardar las imagenes\n",
    "    directories = []             # lista de nombres de las carpetas donde estan las imagenes\n",
    "    dircount = []                # lista de imagenes por carpeta\n",
    "    prevRoot = ''\n",
    "    cant = 1                     # variable para contar imagenes\n",
    "\n",
    "    print('leyendo imagenes de ', imgpath)\n",
    "\n",
    "    for root, dirnames, filenames in os.walk(imgpath):                  # itera sobre lo que hay en fotos\n",
    "        for filename in filenames:                                      # itera sobre la lista de los nombres de las carpetas de fotos\n",
    "            filepath = os.path.join(root, filename)                     # direccion de cada imagen\n",
    "            image = plt.imread(filepath, cv2.IMREAD_COLOR)              # lee la imagen\n",
    "            \n",
    "            image2 = rcb(image)\n",
    "        \n",
    "            images.append(image2)                                        # guarda las imagenes en la lista images\n",
    "            b = 'Leyendo...' + str(cant)                                # concatena palabra leyendo y numero de imagen\n",
    "            print(b, end = '\\r')                                        # imprime linea anterior\n",
    "            cant = cant + 1                                             # por cada objeto encontrado suma 1 a cant\n",
    "        \n",
    "            if(prevRoot != root):                                        # revisa si se leyeron todas las imagenes de la \n",
    "                prevRoot = root                                         # de otra carpeta\n",
    "                directories.append(root)\n",
    "                dircount.append(cant)\n",
    "                cant = 1\n",
    "    \n",
    "        if(cant != 1):\n",
    "            print(root, cant)   \n",
    "\n",
    "    dircount.append(cant)\n",
    "    dircount2 = dircount[1:-1]\n",
    "    dircount2 = [i - 1 for i in dircount2]\n",
    "    dircount2.append(dircount[-1])\n",
    "    dircount = dircount2\n",
    "    print('Directorios leidos: ', len(directories))         \n",
    "    print('Imagenes en cada directorios', dircount)\n",
    "    print('Suma total de imagenes en directorios', sum(dircount))\n",
    "    \n",
    "    etiquetas = etiquetado(dircount)\n",
    "    \n",
    "    return (np.array(images), np.array(etiquetas))"
   ]
  },
  {
   "cell_type": "code",
   "execution_count": 22,
   "metadata": {},
   "outputs": [],
   "source": [
    "\n",
    "def evaluate_model(y_test, y_pred, model = None):\n",
    "    \"\"\"\n",
    "    Aqui se pondran las cuatro metricas que se piden en el reporte\n",
    "    debido a que cada modelo requiere las mismas metricas es probable que se pueda ejecutar el mismo para todas\n",
    "    \"\"\"\n",
    "    f1 = print('El f1 score es de: ', f1_score(y_test, y_pred, average = 'weighted'))\n",
    "    acc = print('El acc score es de: ', accuracy_score(y_test, y_pred))\n",
    "    ps = print('La precision es de: ', precision_score(y_test, y_pred, average='micro'))\n",
    "    re = print('El f1 score es de: ', recall_score(y_test, y_pred, average='micro'))\n",
    "    \n",
    "    return f1, acc, ps, re\n",
    "\n",
    "\n",
    "\n",
    "def matconfision(y_test, y_pred):\n",
    "    '''EN ESTA FUNCION ENTRAN LAS Y ORIGINALES Y LAS PREDICCIONES PARA CREAR UNA MATRIZ DE CONFUSION MAS BONITA'''\n",
    "    \n",
    "    cm = confusion_matrix(y_test, y_pred)\n",
    "    cmn = cm.astype('float') / cm.sum(axis=1)[:, np.newaxis]\n",
    "    target_names = set(y)\n",
    "    \n",
    "    fig, ax = plt.subplots(figsize = (10,10))\n",
    "    sns.heatmap(cmn, annot=True, fmt='.2f', xticklabels=target_names, yticklabels=target_names)\n",
    "    plt.xlabel('Predicted')\n",
    "    \n",
    "    return plt.show(block=False)"
   ]
  },
  {
   "cell_type": "markdown",
   "metadata": {},
   "source": [
    "### Cargar datos"
   ]
  },
  {
   "cell_type": "code",
   "execution_count": 23,
   "metadata": {},
   "outputs": [
    {
     "name": "stdout",
     "output_type": "stream",
     "text": [
      "leyendo imagenes de  C:\\Users\\SERGIOANDRES\\Desktop\\proyectos\\Proyecto Baku\\datos\\\n",
      "C:\\Users\\SERGIOANDRES\\Desktop\\proyectos\\Proyecto Baku\\datos\\healthy 102\n",
      "C:\\Users\\SERGIOANDRES\\Desktop\\proyectos\\Proyecto Baku\\datos\\parkinson 102\n",
      "Directorios leidos:  2\n",
      "Imagenes en cada directorios [102, 102]\n",
      "Suma total de imagenes en directorios 204\n",
      "Cantidad etiquetas creadas:  204\n"
     ]
    }
   ],
   "source": [
    "carga = load_photos('datos')"
   ]
  },
  {
   "cell_type": "code",
   "execution_count": 24,
   "metadata": {},
   "outputs": [],
   "source": [
    "# Dividir los datos en X y y (fotos y etiquetas)\n",
    "X = carga[0]\n",
    "y = carga[1]"
   ]
  },
  {
   "cell_type": "code",
   "execution_count": 25,
   "metadata": {},
   "outputs": [
    {
     "name": "stdout",
     "output_type": "stream",
     "text": [
      "Dimensiones de X y Y (204, 65536) (204,)\n"
     ]
    }
   ],
   "source": [
    "print('Dimensiones de X y Y', X.shape, y.shape)"
   ]
  },
  {
   "cell_type": "markdown",
   "metadata": {},
   "source": [
    "### 4. Dividir en sets de Entrenamiento, Validación y Test"
   ]
  },
  {
   "cell_type": "code",
   "execution_count": 26,
   "metadata": {},
   "outputs": [
    {
     "name": "stdout",
     "output_type": "stream",
     "text": [
      "(163, 65536) (41, 65536) (163,) (41,)\n"
     ]
    }
   ],
   "source": [
    "X_train, X_test, y_train, y_test = train_test_split(X, y, test_size = 0.2, random_state = 123)\n",
    "print(X_train.shape, X_test.shape, y_train.shape, y_test.shape)"
   ]
  },
  {
   "cell_type": "code",
   "execution_count": 27,
   "metadata": {},
   "outputs": [],
   "source": [
    "# Escalar datos\n",
    "X_train = scaler.fit_transform(X_train)\n",
    "X_test = scaler.transform(X_test)"
   ]
  },
  {
   "cell_type": "markdown",
   "metadata": {},
   "source": [
    "## 6. Crear el modelo de ML"
   ]
  },
  {
   "cell_type": "code",
   "execution_count": 28,
   "metadata": {},
   "outputs": [
    {
     "data": {
      "text/plain": [
       "LogisticRegression(C=1.0, class_weight=None, dual=False, fit_intercept=True,\n",
       "                   intercept_scaling=1, l1_ratio=None, max_iter=100,\n",
       "                   multi_class='multinomial', n_jobs=None, penalty='l2',\n",
       "                   random_state=123, solver='lbfgs', tol=0.0001, verbose=0,\n",
       "                   warm_start=False)"
      ]
     },
     "execution_count": 28,
     "metadata": {},
     "output_type": "execute_result"
    }
   ],
   "source": [
    "clf_log = LogisticRegression(random_state = 123, solver = 'lbfgs', multi_class = 'multinomial')\n",
    "clf_log.fit(X_train, y_train)"
   ]
  },
  {
   "cell_type": "code",
   "execution_count": 29,
   "metadata": {},
   "outputs": [
    {
     "data": {
      "text/plain": [
       "RandomForestClassifier(bootstrap=True, ccp_alpha=0.0, class_weight=None,\n",
       "                       criterion='gini', max_depth=None, max_features='auto',\n",
       "                       max_leaf_nodes=None, max_samples=None,\n",
       "                       min_impurity_decrease=0.0, min_impurity_split=None,\n",
       "                       min_samples_leaf=1, min_samples_split=2,\n",
       "                       min_weight_fraction_leaf=0.0, n_estimators=500,\n",
       "                       n_jobs=None, oob_score=False, random_state=123,\n",
       "                       verbose=0, warm_start=False)"
      ]
     },
     "execution_count": 29,
     "metadata": {},
     "output_type": "execute_result"
    }
   ],
   "source": [
    "# AJUSTAR EL MODELO CON 2O ARBOLES\n",
    "clasificador = RandomForestClassifier(n_estimators = 500, random_state = 123)\n",
    "clasificador.fit(X_train, y_train)"
   ]
  },
  {
   "cell_type": "markdown",
   "metadata": {},
   "source": [
    "## 7. Resultados"
   ]
  },
  {
   "cell_type": "code",
   "execution_count": 30,
   "metadata": {},
   "outputs": [
    {
     "name": "stdout",
     "output_type": "stream",
     "text": [
      "El f1 score es de:  0.5799264074930552\n",
      "El acc score es de:  0.5853658536585366\n",
      "La precision es de:  0.5853658536585366\n",
      "El f1 score es de:  0.5853658536585366\n"
     ]
    },
    {
     "data": {
      "image/png": "[encoded data removed]",
      "text/plain": [
       "<Figure size 720x720 with 2 Axes>"
      ]
     },
     "metadata": {
      "needs_background": "light"
     },
     "output_type": "display_data"
    }
   ],
   "source": [
    "y_pred_LR = clf_log.predict(X_test)\n",
    "evaluate_model(y_test, y_pred_LR)\n",
    "matconfision(y_test, y_pred_LR)"
   ]
  },
  {
   "cell_type": "code",
   "execution_count": 31,
   "metadata": {},
   "outputs": [
    {
     "name": "stdout",
     "output_type": "stream",
     "text": [
      "El f1 score es de:  0.7108518911276069\n",
      "El acc score es de:  0.7073170731707317\n",
      "La precision es de:  0.7073170731707317\n",
      "El f1 score es de:  0.7073170731707317\n"
     ]
    },
    {
     "data": {
      "image/png": "[encoded data removed]",
      "text/plain": [
       "<Figure size 720x720 with 2 Axes>"
      ]
     },
     "metadata": {
      "needs_background": "light"
     },
     "output_type": "display_data"
    }
   ],
   "source": [
    "y_pred_RF = clasificador.predict(X_test)\n",
    "evaluate_model(y_test, y_pred_RF)\n",
    "matconfision(y_test, y_pred_RF)"
   ]
  },
  {
   "cell_type": "markdown",
   "metadata": {},
   "source": [
    "## Cross validation con RandomForestClassifier"
   ]
  },
  {
   "cell_type": "code",
   "execution_count": 36,
   "metadata": {},
   "outputs": [],
   "source": [
    "bosque = RandomForestClassifier(n_estimators = 500, random_state = 123)\n",
    "scores = cross_val_score(bosque, X, y, cv = 20)"
   ]
  },
  {
   "cell_type": "code",
   "execution_count": 37,
   "metadata": {},
   "outputs": [
    {
     "data": {
      "text/plain": [
       "array([0.36363636, 0.72727273, 0.36363636, 0.36363636, 0.5       ,\n",
       "       0.4       , 0.8       , 0.7       , 0.5       , 0.6       ,\n",
       "       0.6       , 0.6       , 0.6       , 0.8       , 0.8       ,\n",
       "       0.3       , 0.6       , 0.7       , 0.5       , 0.3       ])"
      ]
     },
     "execution_count": 37,
     "metadata": {},
     "output_type": "execute_result"
    }
   ],
   "source": [
    "scores"
   ]
  },
  {
   "cell_type": "code",
   "execution_count": 38,
   "metadata": {
    "scrolled": true
   },
   "outputs": [
    {
     "name": "stdout",
     "output_type": "stream",
     "text": [
      "Accuracy: 0.56 (+/- 0.33)\n"
     ]
    }
   ],
   "source": [
    "print(\"Accuracy: {:.2f} (+/- {:.2f})\".format(scores.mean(), scores.std() * 2))"
   ]
  },
  {
   "cell_type": "code",
   "execution_count": null,
   "metadata": {},
   "outputs": [],
   "source": []
  },
  {
   "cell_type": "code",
   "execution_count": null,
   "metadata": {},
   "outputs": [],
   "source": []
  },
  {
   "cell_type": "code",
   "execution_count": null,
   "metadata": {},
   "outputs": [],
   "source": []
  },
  {
   "cell_type": "code",
   "execution_count": null,
   "metadata": {},
   "outputs": [],
   "source": []
  },
  {
   "cell_type": "code",
   "execution_count": null,
   "metadata": {},
   "outputs": [],
   "source": []
  },
  {
   "cell_type": "code",
   "execution_count": null,
   "metadata": {},
   "outputs": [],
   "source": []
  },
  {
   "cell_type": "code",
   "execution_count": null,
   "metadata": {},
   "outputs": [],
   "source": []
  },
  {
   "cell_type": "code",
   "execution_count": null,
   "metadata": {},
   "outputs": [],
   "source": []
  }
 ],
 "metadata": {
  "kernelspec": {
   "display_name": "Python 3",
   "language": "python",
   "name": "python3"
  },
  "language_info": {
   "codemirror_mode": {
    "name": "ipython",
    "version": 3
   },
   "file_extension": ".py",
   "mimetype": "text/x-python",
   "name": "python",
   "nbconvert_exporter": "python",
   "pygments_lexer": "ipython3",
   "version": "3.7.6"
  }
 },
 "nbformat": 4,
 "nbformat_minor": 4
}
